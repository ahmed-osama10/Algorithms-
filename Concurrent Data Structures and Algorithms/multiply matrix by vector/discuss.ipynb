{
  "nbformat": 4,
  "nbformat_minor": 0,
  "metadata": {
    "colab": {
      "provenance": []
    },
    "kernelspec": {
      "name": "python3",
      "display_name": "Python 3"
    },
    "language_info": {
      "name": "python"
    }
  },
  "cells": [
    {
      "cell_type": "markdown",
      "source": [
        " this is the sequential code for the problem "
      ],
      "metadata": {
        "id": "LdIxqyfQu6Ez"
      }
    },
    {
      "cell_type": "code",
      "execution_count": 4,
      "metadata": {
        "colab": {
          "base_uri": "https://localhost:8080/"
        },
        "id": "Gzo1rCHvk8OD",
        "outputId": "2b78104f-7a57-4e99-d13f-a300193f8214"
      },
      "outputs": [
        {
          "output_type": "stream",
          "name": "stdout",
          "text": [
            "[14. 32. 50.]\n"
          ]
        }
      ],
      "source": [
        "import numpy as np #This imports the NumPy library and assigns it the alias np. The NumPy library is used for mathematical operations and array manipulation.\n",
        "from scipy.sparse import csr_matrix #This imports the csr_matrix class from the sparse module of the SciPy library, which is used to create sparse matrices.\n",
        "\n",
        "def sequential_multiply(matrix, vector): #This defines a function called sequential_multiply that takes a matrix and a vector as input.\n",
        "    result = np.zeros(matrix.shape[0]) # this creates an array of zeros of length equal to the number of rows in the matrix,the shape[0] attribute returns the number of rows in the matrix.\n",
        "    if isinstance(matrix, csr_matrix): #This checks if the matrix is of type csr_matrix\n",
        "        for i in range(matrix.shape[0]): #This loop iterates over the number of rows in the matrix.\n",
        "            for j in range(matrix.indptr[i], matrix.indptr[i + 1]): #This loop iterates over the non-zero elements of the current row in the sparse matrix\n",
        "                result[i] += matrix.data[j] * vector[matrix.indices[j]] #This multiplies the value of the current non-zero element in the sparse matrix by the corresponding element of the vector, and adds the result to the current element of the result array.\n",
        "    else: #if the matrix is not sparse matrix\n",
        "        for i in range(matrix.shape[0]): #This loop iterates over the number of rows in the matrix.\n",
        "            result[i] = np.dot(matrix[i], vector) #This performs the dot product between the current row of the matrix and the vector and assigns the result to the current element of the result array.\n",
        "    return result #This returns the final result array, which is the result of the matrix-vector multiplication.\n",
        "\n",
        "matrix = csr_matrix([[1, 2, 3], [4, 5, 6], [7, 8, 9]]) #This creates a sparse matrix\n",
        "vector = np.array([1, 2, 3]) #This creates a vector\n",
        "print(sequential_multiply(matrix, vector)) #This calls the sequential_multiply function, passing in the matrix and the vector as arguments, and print the result.\n"
      ]
    },
    {
      "cell_type": "markdown",
      "source": [
        "The time complexity of this code for multiplying a matrix by a vector using a linear array of processors in Python is O(nnz) for sparse matrix case, and O(mn) for dense matrix case, where nnz is the number of non-zero elements in the sparse matrix, m is the number of rows in the matrix and n is the number of columns in the matrix.\n",
        "\n",
        "For the case of the sparse matrix, the code uses the sparse format CSR, which stores the non-zero elements of the matrix in a 1D array, the column indices of the non-zero elements in another 1D array, and a 1D array of indices that define the start and end of each row of non-zero elements in the first two arrays. So, the code iterates over the non-zero elements in the matrix, so the time complexity is directly proportional to the number of non-zero elements in the matrix, which is O(nnz).\n",
        "\n",
        "For the case of the dense matrix, the code uses the numpy dot function, which is implemented in C and highly optimized, so it's very fast, and the time complexity is O(mn), where m is the number of rows in the matrix and n is the number of columns in the matrix."
      ],
      "metadata": {
        "id": "NHLewA69v22b"
      }
    },
    {
      "cell_type": "markdown",
      "source": [
        "The time complexity of O(n) for a matrix-vector multiplication is not possible as the matrix is a 2D array and in order to multiply the matrix with the vector, we need to go through all the elements in the matrix.\n",
        "\n",
        "However, there are some ways to optimize the code to make it more efficient, such as:\n",
        "\n",
        "Using sparse matrices: As I mentioned before, sparse matrices are useful in many areas of mathematics, computer science, and engineering because they can be stored and manipulated more efficiently than dense matrices. The time complexity of performing matrix-vector multiplication using sparse matrices is O(nnz) where nnz is the number of non-zero elements in the sparse matrix.\n",
        "\n",
        "Using optimized libraries: Using optimized libraries such as NumPy or SciPy that have been optimized for performance. These libraries provide highly optimized implementations of common linear algebra operations such as matrix-vector multiplication.\n",
        "\n",
        "Using specialized hardware: Using specialized hardware such as Graphics Processing Units (GPUs) can significantly improve the performance of matrix-vector multiplication by taking advantage of the parallel computing capabilities of the GPU.\n",
        "\n",
        "Using strassen algorithm for matrix multiplication which have time complexity of O(n^log2(7)) which is close to O(n)"
      ],
      "metadata": {
        "id": "-PqnyVj8u1Bw"
      }
    },
    {
      "cell_type": "code",
      "source": [],
      "metadata": {
        "id": "I-OrAR-RwL4G"
      },
      "execution_count": null,
      "outputs": []
    },
    {
      "cell_type": "markdown",
      "source": [
        "this is parallel code for the problem "
      ],
      "metadata": {
        "id": "ItPD0GmlwMmV"
      }
    },
    {
      "cell_type": "code",
      "source": [
        "#This code will divide the matrix into chunks, with each chunk being handled by a separate process. The result is stored in a shared memory list,\n",
        "#so each process can update its portion of the result without interfering with the other processes.\n",
        "#The processes are started using the Process class from the multiprocessing module and wait for all of them to finish using join method.\n",
        "\n",
        "from multiprocessing import Process, Manager #This line imports the Process and Manager classes from the multiprocessing module, which are used to create and manage the parallel processes.\n",
        "#This line defines a function called multiply that takes in 5 parameters: matrix, vector, result, start, and end. \n",
        "#The matrix and vector are the input matrices that need to be multiplied. \n",
        "#The result is a shared memory list where the function stores the result of the multiplication. \n",
        "#The start and end parameters are used to specify the range of rows in the matrix that the function should multiply.\n",
        "\n",
        "def multiply(matrix, vector, result, start, end):\n",
        "    for i in range(start, end): #This line starts a loop that iterates over the rows of the matrix between start and end.\n",
        "        result[i] = 0 #This line initializes the result for the current row to 0.\n",
        "        for j in range(len(vector)): # This line starts a nested loop that iterates over the elements of the vector.\n",
        "            result[i] += matrix[i][j] * vector[j] #This line multiplies the corresponding element of the current row of the matrix with the current element of the vector, and adds it to the current value of the result.\n",
        "\n",
        "if __name__ == '__main__': #This line is used to check whether the script is being run directly or imported as a module.\n",
        "    # Example matrix and vector\n",
        "    matrix = [[1, 2, 3], [4, 5, 6], [7, 8, 9]]\n",
        "    vector = [1, 2, 3]\n",
        "\n",
        "    # Number of processors\n",
        "    num_processors = 3\n",
        "\n",
        "    # Divide the matrix into chunks for each processor\n",
        "    chunk_size = len(matrix) // num_processors #This line calculates the size of each chunk of the matrix that will be assigned to each process.\n",
        "    chunks = [(i * chunk_size, (i + 1) * chunk_size) for i in range(num_processors)] # This line creates a list of tuples that represent the starting and ending indices of each chunk of the matrix.\n",
        "\n",
        "    # Create a shared memory list for the result\n",
        "    with Manager() as manager: #This line creates a manager object that is used to create the shared memory list for the result.\n",
        "        result = manager.list([0 for i in range(len(matrix))]) #This line creates a shared memory list for the result and initializes it to all 0s.\n",
        "\n",
        "        # Create and start the processes\n",
        "        # This line creates a list of Process objects, one for each chunk of the matrix.\n",
        "        # Each process runs the multiply function and is passed the appropriate arguments.\n",
        "        processes = [Process(target=multiply, args=(matrix, vector, result, start, end)) for start, end in chunks]\n",
        "        for p in processes: #This line starts all the processes created in the previous step.\n",
        "            p.start()\n",
        "\n",
        "        # Wait for all processes to finish\n",
        "        for p in processes:\n",
        "            p.join()\n",
        "\n",
        "        # Print the result\n",
        "        print(result)\n"
      ],
      "metadata": {
        "colab": {
          "base_uri": "https://localhost:8080/"
        },
        "id": "k_wYSp4vxF0L",
        "outputId": "eaf03ed5-aeb6-41fa-f606-fd0678ceaa80"
      },
      "execution_count": 7,
      "outputs": [
        {
          "output_type": "stream",
          "name": "stdout",
          "text": [
            "[14, 32, 50]\n"
          ]
        }
      ]
    },
    {
      "cell_type": "markdown",
      "source": [
        "The overall time complexity of this code is O(n^2) where n is the number of rows in the matrix.\n",
        "\n",
        "The main computation in this code is the nested loop that starts at line 5. The outer loop iterates n times over the rows of the matrix, and the inner loop iterates n times over the elements of the vector. Therefore, the total number of iterations is n*n.\n",
        "\n",
        "For each iteration, the code performs a simple multiplication and addition operation, which has a constant time complexity of O(1). Therefore, the total time complexity of the nested loop is O(n^2)\n",
        "\n",
        "The other parts of the code, such as creating the processes, dividing the matrix into chunks, and waiting for the processes to finish, have a constant time complexity of O(1) or O(n) which is insignificant when compared to the O(n^2) time complexity of the nested loop. Therefore, the overall time complexity of the code is O(n^2).\n",
        "\n",
        "In addition, this implementation uses parallel computing, so the time complexity will be significantly reduced as the number of processors increases."
      ],
      "metadata": {
        "id": "0_0v0cRK20z2"
      }
    },
    {
      "cell_type": "code",
      "source": [
        "from multiprocessing import Process, Manager\n",
        "import numpy as np\n",
        "\n",
        "def multiply(matrix, vector, result, start, end):\n",
        "    result[start:end] = matrix[start:end].dot(vector)\n",
        "\n",
        "if __name__ == '__main__':\n",
        "    # Example matrix and vector\n",
        "    matrix = np.array([[1, 2, 3], [4, 5, 6], [7, 8, 9]])\n",
        "    vector = np.array([1, 2, 3])\n",
        "\n",
        "    # Number of processors\n",
        "    num_processors = 3\n",
        "\n",
        "    # Divide the matrix into chunks for each processor\n",
        "    chunk_size = len(matrix) // num_processors\n",
        "    chunks = [(i * chunk_size, (i + 1) * chunk_size) for i in range(num_processors)]\n",
        "\n",
        "    # Create a shared memory list for the result\n",
        "    with Manager() as manager:\n",
        "        result = manager.list(np.zeros(len(matrix)))\n",
        "\n",
        "        # Create and start the processes\n",
        "        processes = [Process(target=multiply, args=(matrix, vector, result, start, end)) for start, end in chunks]\n",
        "        for p in processes:\n",
        "            p.start()\n",
        "\n",
        "        # Wait for all processes to finish\n",
        "        for p in processes:\n",
        "            p.join()\n",
        "\n",
        "        # Print the result\n",
        "        print(result)\n"
      ],
      "metadata": {
        "colab": {
          "base_uri": "https://localhost:8080/"
        },
        "id": "MGpNQQSy6Jd0",
        "outputId": "ca0acdd4-1cc1-4dc7-dd70-6b130b6886f9"
      },
      "execution_count": 8,
      "outputs": [
        {
          "output_type": "stream",
          "name": "stdout",
          "text": [
            "[14, 32, 50]\n"
          ]
        }
      ]
    },
    {
      "cell_type": "markdown",
      "source": [
        "This code will divide the matrix into chunks, with each chunk being handled by a separate process. Each process will use numpy's dot product method to multiply the chunk of the matrix with the vector, this calculation has a time complexity of O(n) because it performs n multiplications and n additions, which is linear to the size of the input. The result is stored in a shared memory list, so each process can update its portion of the result without interfering with the other processes. The processes are started using the Process class from the multiprocessing module and wait for all of them to finish using join method.\n",
        "In this implementation, we are using numpy library, which has a built-in function dot() for dot product calculation.\n",
        "It is worth mentioning that the parallel implementation using multiprocessing library is still valid, but the time complexity will be O(n) for each process."
      ],
      "metadata": {
        "id": "6QplRM8m6MJE"
      }
    },
    {
      "cell_type": "markdown",
      "source": [
        "It is important to note that the time complexity of the matrix-vector multiplication is always O(n^2) or O(n) for the sequential or parallel implementation using dot product method, as it requires iterating over all elements of the matrix and the vector, which is at least linear to the size of the input.\n",
        "\n",
        "To achieve a time complexity of less than O(n), you would need to use a different algorithm or mathematical approach for the matrix-vector multiplication, such as a fast Fourier transform (FFT) based algorithm. FFT based algorithms can achieve a time complexity of O(n log n) by using complex mathematical operations, such as FFT and inverse FFT, which can reduce the number of operations required to perform the multiplication.\n",
        "\n",
        "However, implementing such an algorithm would require a significant amount of mathematical knowledge and it's not a straightforward task. Furthermore, it's not always the best approach, as it might not be more efficient than the standard O(n^2) or O(n) algorithms in practice, and it can be hard to implement it in parallel or distributed computing.\n",
        "\n",
        "So, it's important to note that the time complexity of an algorithm is not the only metric for measuring its performance and efficiency, the complexity of the implementation, the hardware, and the data size are also important factors."
      ],
      "metadata": {
        "id": "CFSHkLjo65oo"
      }
    }
  ]
}