{
  "cells": [
    {
      "cell_type": "code",
      "execution_count": 1,
      "id": "dd0f2abc",
      "metadata": {
        "id": "dd0f2abc"
      },
      "outputs": [],
      "source": [
        "import numpy as np"
      ]
    },
    {
      "cell_type": "code",
      "execution_count": 2,
      "id": "4bdbef74",
      "metadata": {
        "id": "4bdbef74"
      },
      "outputs": [],
      "source": [
        "def search_mesh(value , n_processors):\n",
        "    mesh = construct_mesh(n_processors)\n",
        "    x = 0\n",
        "    y = 0\n",
        "    flag = False\n",
        "    for step in range(len(mesh) - 1):\n",
        "        \n",
        "        x = 0\n",
        "        y = 0\n",
        "        for i in range(step + 1):\n",
        "            \n",
        "            temp = mesh[x + i][step + 1]\n",
        "            \n",
        "            if(temp == value):\n",
        "                \n",
        "                flag = True\n",
        "        \n",
        "        if(flag):\n",
        "            break\n",
        "        \n",
        "        for i in range(step + 2):\n",
        "            \n",
        "            temp = mesh[step + 1][y + i]\n",
        "            if(temp == value):\n",
        "                flag = True\n",
        "        if(flag):\n",
        "            break\n",
        "        \n",
        "    return flag"
      ]
    },
    {
      "cell_type": "code",
      "execution_count": 3,
      "id": "aa1135da",
      "metadata": {
        "id": "aa1135da"
      },
      "outputs": [],
      "source": [
        "def construct_mesh(n_processors = 16):\n",
        "    return [[42, 53, 16, 8], [41, 9, 11, 67], [29, 13, 21, 5], [10, 22, 49, 3]]"
      ]
    },
    {
      "cell_type": "code",
      "execution_count": 4,
      "id": "1b7a7ae1",
      "metadata": {
        "colab": {
          "base_uri": "https://localhost:8080/"
        },
        "id": "1b7a7ae1",
        "outputId": "c360ce90-4dd7-4fe4-e121-ebcd2b0956ef"
      },
      "outputs": [
        {
          "output_type": "execute_result",
          "data": {
            "text/plain": [
              "[[42, 53, 16, 8], [41, 9, 11, 67], [29, 13, 21, 5], [10, 22, 49, 3]]"
            ]
          },
          "metadata": {},
          "execution_count": 4
        }
      ],
      "source": [
        "mesh = construct_mesh(16)\n",
        "mesh"
      ]
    },
    {
      "cell_type": "code",
      "execution_count": 5,
      "id": "ad5e0572",
      "metadata": {
        "colab": {
          "base_uri": "https://localhost:8080/"
        },
        "id": "ad5e0572",
        "outputId": "8a62b48d-12d8-4699-dbaf-f65fddac2f93"
      },
      "outputs": [
        {
          "output_type": "execute_result",
          "data": {
            "text/plain": [
              "True"
            ]
          },
          "metadata": {},
          "execution_count": 5
        }
      ],
      "source": [
        "search_mesh(49 , 16)"
      ]
    },
    {
      "cell_type": "code",
      "execution_count": 6,
      "id": "0502e119",
      "metadata": {
        "id": "0502e119"
      },
      "outputs": [],
      "source": [
        "def find_min_of_mesh(n_processors):\n",
        "    mesh = construct_mesh(n_processors)\n",
        "    \n",
        "    min_val = mesh[0][0]\n",
        "    x_coord = 0\n",
        "    y_coord = 0\n",
        "    \n",
        "    for step in range(len(mesh)-1):\n",
        "        \n",
        "        x = 0\n",
        "        y = 0\n",
        "        for i in range(step + 1):\n",
        "            \n",
        "            temp = mesh[x + i][step + 1]\n",
        "            \n",
        "            if(temp <= min_val):\n",
        "                \n",
        "                min_val = temp\n",
        "                x_coord = x + i\n",
        "                y_coord = step + 1\n",
        "        \n",
        "        for i in range(step + 2):\n",
        "            temp = mesh[x + i][step + 1]\n",
        "            if(temp <= min_val):\n",
        "                \n",
        "                min_val = temp\n",
        "                x_coord = x + i\n",
        "                y_coord = step + 1\n",
        "    print(mesh)\n",
        "    print('minimum value : ' + str(min_val) + '\\nwith x_coordinates : ' + str(x_coord) + '\\nand y_coordinates :' + str(y_coord))\n",
        "        \n",
        "    return (min_val , x_coord , y_coord)"
      ]
    },
    {
      "cell_type": "code",
      "execution_count": 7,
      "id": "e9be7257",
      "metadata": {
        "colab": {
          "base_uri": "https://localhost:8080/"
        },
        "id": "e9be7257",
        "outputId": "9aab8689-030c-4764-b734-5693f4ef9d0d"
      },
      "outputs": [
        {
          "output_type": "stream",
          "name": "stdout",
          "text": [
            "[[42, 53, 16, 8], [41, 9, 11, 67], [29, 13, 21, 5], [10, 22, 49, 3]]\n",
            "minimum value : 3\n",
            "with x_coordinates : 3\n",
            "and y_coordinates :3\n"
          ]
        },
        {
          "output_type": "execute_result",
          "data": {
            "text/plain": [
              "(3, 3, 3)"
            ]
          },
          "metadata": {},
          "execution_count": 7
        }
      ],
      "source": [
        "find_min_of_mesh(16)"
      ]
    },
    {
      "cell_type": "code",
      "execution_count": 8,
      "id": "80810c76",
      "metadata": {
        "id": "80810c76"
      },
      "outputs": [],
      "source": [
        "def prefix_sum(n_processor):\n",
        "        \n",
        "    mesh = [[1, 2, 3, 5], [4, 3, 1, 2], [5, 4, 2, 3], [1, 2, 4, 3]]\n",
        "    mesh_copy = mesh.copy()\n",
        "    \n",
        "    prefix_value = 0\n",
        "    \n",
        "    print(mesh)\n",
        "    for i in range(len(mesh)):\n",
        "        \n",
        "        for j in range(len(mesh)):\n",
        "            \n",
        "            prefix_value += mesh_copy[i][j]\n",
        "            mesh[i][j] = prefix_value\n",
        "    \n",
        "    print(mesh)"
      ]
    },
    {
      "cell_type": "code",
      "execution_count": 9,
      "id": "1a6db700",
      "metadata": {
        "colab": {
          "base_uri": "https://localhost:8080/"
        },
        "id": "1a6db700",
        "outputId": "5388a04f-7d13-444b-834e-a1e80d5d0e0e"
      },
      "outputs": [
        {
          "output_type": "stream",
          "name": "stdout",
          "text": [
            "[[1, 2, 3, 5], [4, 3, 1, 2], [5, 4, 2, 3], [1, 2, 4, 3]]\n",
            "[[1, 3, 6, 11], [15, 18, 19, 21], [26, 30, 32, 35], [36, 38, 42, 45]]\n"
          ]
        }
      ],
      "source": [
        "prefix_sum(16)"
      ]
    }
  ],
  "metadata": {
    "kernelspec": {
      "display_name": "Python 3 (ipykernel)",
      "language": "python",
      "name": "python3"
    },
    "language_info": {
      "codemirror_mode": {
        "name": "ipython",
        "version": 3
      },
      "file_extension": ".py",
      "mimetype": "text/x-python",
      "name": "python",
      "nbconvert_exporter": "python",
      "pygments_lexer": "ipython3",
      "version": "3.9.13"
    },
    "colab": {
      "provenance": []
    }
  },
  "nbformat": 4,
  "nbformat_minor": 5
}